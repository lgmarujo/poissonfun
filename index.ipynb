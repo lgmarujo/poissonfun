{
 "cells": [
  {
   "cell_type": "markdown",
   "metadata": {},
   "source": [
    "# Poisson processes for fun and profit"
   ]
  },
  {
   "cell_type": "markdown",
   "metadata": {},
   "source": [
    "Nelson Uhan<br>\n",
    "October 2016"
   ]
  },
  {
   "cell_type": "markdown",
   "metadata": {},
   "source": [
    "## A really important question"
   ]
  },
  {
   "cell_type": "markdown",
   "metadata": {},
   "source": [
    "Do Taylor Swift's tweets follow a Poisson process? "
   ]
  },
  {
   "cell_type": "markdown",
   "metadata": {},
   "source": [
    "## How do we determine if an arrival process is Poisson?"
   ]
  },
  {
   "cell_type": "markdown",
   "metadata": {},
   "source": [
    "One approach: __look at the interarrival times__.\n",
    "\n",
    "* Are the interarrival times exponentially distributed?\n",
    "* Are the interarrival times independent?"
   ]
  },
  {
   "cell_type": "markdown",
   "metadata": {},
   "source": [
    "## Preliminaries"
   ]
  },
  {
   "cell_type": "markdown",
   "metadata": {},
   "source": [
    "This is a [Jupyter Notebook](http://www.jupyter.org), which lets you mix live code, equations, text, and images into one interactive document. The code in this notebook is written in [Python](http://www.python.org).\n",
    "\n",
    "To execute a code cell:\n",
    "\n",
    "1. Click inside a code cell\n",
    "2. Either\n",
    "    * press <key><i class=\"fa fa-step-forward\" aria-hidden=\"true\"></i></key> in the toolbar, or\n",
    "    * press Shift + Enter"
   ]
  },
  {
   "cell_type": "markdown",
   "metadata": {},
   "source": [
    "First, we need to import a whole bunch of libraries, including [Tweepy](http://www.tweepy.org), which allows us to interface with Twitter programmatically with the Python programming language."
   ]
  },
  {
   "cell_type": "code",
   "execution_count": null,
   "metadata": {
    "collapsed": false
   },
   "outputs": [],
   "source": [
    "# Setup - import libraries, initialize plotly for Jupyter\n",
    "import tweepy\n",
    "import numpy as np\n",
    "import scipy.stats as stats\n",
    "import IPython.display\n",
    "import plotly.graph_objs as go\n",
    "import plotly.offline as pl\n",
    "pl.init_notebook_mode(connected=True)"
   ]
  },
  {
   "cell_type": "markdown",
   "metadata": {},
   "source": [
    "Next, we need to authenticate into Twitter."
   ]
  },
  {
   "cell_type": "code",
   "execution_count": null,
   "metadata": {
    "collapsed": false
   },
   "outputs": [],
   "source": [
    "# Authenticate into Twitter\n",
    "consumer_key = 'CONSUMER_KEY'\n",
    "consumer_secret = 'CONSUMER_SECRET'\n",
    "auth = tweepy.AppAuthHandler(consumer_key, consumer_secret)\n",
    "api = tweepy.API(auth)"
   ]
  },
  {
   "cell_type": "markdown",
   "metadata": {},
   "source": [
    "## Getting someone's tweets"
   ]
  },
  {
   "cell_type": "markdown",
   "metadata": {},
   "source": [
    "Let's grab some information about the Twitter user we want to study."
   ]
  },
  {
   "cell_type": "code",
   "execution_count": null,
   "metadata": {
    "collapsed": true
   },
   "outputs": [],
   "source": [
    "# Enter Twitter user name\n",
    "username = 'taylorswift13'"
   ]
  },
  {
   "cell_type": "code",
   "execution_count": null,
   "metadata": {
    "collapsed": false
   },
   "outputs": [],
   "source": [
    "# Get information about this Twitter user\n",
    "user = api.get_user(username)\n",
    "print('Name: {0}'.format(user.name))\n",
    "print('Location: {0}'.format(user.location))\n",
    "IPython.display.Image(user.profile_image_url)"
   ]
  },
  {
   "cell_type": "markdown",
   "metadata": {},
   "source": [
    "Let's grab this user's last 500 tweets."
   ]
  },
  {
   "cell_type": "code",
   "execution_count": null,
   "metadata": {
    "collapsed": true
   },
   "outputs": [],
   "source": [
    "# Get user's last 500 tweets\n",
    "public_tweets = []\n",
    "for tweet in tweepy.Cursor(api.user_timeline, screen_name=username).items(500):\n",
    "    public_tweets.append(tweet)"
   ]
  },
  {
   "cell_type": "markdown",
   "metadata": {},
   "source": [
    "Just to make sure we're doing this right &mdash; let's examine this user's last 10 tweets."
   ]
  },
  {
   "cell_type": "code",
   "execution_count": null,
   "metadata": {
    "collapsed": false,
    "scrolled": true
   },
   "outputs": [],
   "source": [
    "# Print user's last 10 tweets: date/time, text\n",
    "for tweet in public_tweets[:10]:\n",
    "    print(\"{0} {1}\".format(tweet.created_at, tweet.text))"
   ]
  },
  {
   "cell_type": "markdown",
   "metadata": {},
   "source": [
    "OK, looks good! Now let's create a list of just the tweet arrival times."
   ]
  },
  {
   "cell_type": "code",
   "execution_count": null,
   "metadata": {
    "collapsed": false
   },
   "outputs": [],
   "source": [
    "# Grab just the arrival times\n",
    "arrival_times = []\n",
    "for tweet in public_tweets:\n",
    "    arrival_times.append(tweet.created_at)"
   ]
  },
  {
   "cell_type": "markdown",
   "metadata": {},
   "source": [
    "Next, we can compute the interarrival times by\n",
    "\n",
    "* sorting the arrival times, and then \n",
    "* computing the difference in consecutive arrival times.\n",
    "\n",
    "The times are in seconds, so we divide the interarrival times by $60 \\times 60$ to obtain times in hours."
   ]
  },
  {
   "cell_type": "code",
   "execution_count": null,
   "metadata": {
    "collapsed": false
   },
   "outputs": [],
   "source": [
    "# Sort arrival times\n",
    "arrival_times.sort()\n",
    "\n",
    "# Compute interarrival times in hours\n",
    "interarrival_times = []\n",
    "for a, b in zip(arrival_times, arrival_times[1:]):\n",
    "    interarrival_times.append((b - a).seconds / (60 * 60))"
   ]
  },
  {
   "cell_type": "markdown",
   "metadata": {},
   "source": [
    "Another sanity check: do the interarrival times look reasonable? Let's print out the first 10:"
   ]
  },
  {
   "cell_type": "code",
   "execution_count": null,
   "metadata": {
    "collapsed": false,
    "scrolled": true
   },
   "outputs": [],
   "source": [
    "print(interarrival_times[:10])"
   ]
  },
  {
   "cell_type": "markdown",
   "metadata": {},
   "source": [
    "The exponential distribution has a parameter, $\\lambda$. The maximum likelihood estimator of $\\lambda$ is the mean interarrival rate. Let's compute this next."
   ]
  },
  {
   "cell_type": "code",
   "execution_count": null,
   "metadata": {
    "collapsed": false
   },
   "outputs": [],
   "source": [
    "# Mean interarrival time\n",
    "mean_interarrival_time = np.mean(interarrival_times)\n",
    "print(\"Mean interarrival time: {0} hours per tweet\".format(mean_interarrival_time))\n",
    "\n",
    "# Mean interarrival rate\n",
    "mean_interarrival_rate = 1 / mean_interarrival_time\n",
    "print(\"Mean interarrival rate: {0} tweets per hour\".format(mean_interarrival_rate))"
   ]
  },
  {
   "cell_type": "markdown",
   "metadata": {},
   "source": [
    "Let's see if the histogram of interarrival times looks like the pdf of the exponential distribution, using the mean interarrival rate as an estimate for $\\lambda$:"
   ]
  },
  {
   "cell_type": "code",
   "execution_count": null,
   "metadata": {
    "collapsed": false
   },
   "outputs": [],
   "source": [
    "# Create histogram trace\n",
    "hist_trace = go.Histogram(x=interarrival_times, histnorm='probability density')\n",
    "\n",
    "# Create pdf trace\n",
    "x_max = max(interarrival_times)\n",
    "x_range = np.arange(0, x_max, x_max / 1000)\n",
    "pdf = [stats.expon.pdf(x, scale=mean_interarrival_time) for x in x_range]\n",
    "pdf_trace = go.Scatter(x=x_range, y=pdf)\n",
    "\n",
    "# Plot the histogram and pdf\n",
    "data = [hist_trace, pdf_trace]\n",
    "layout = go.Layout(\n",
    "    title='Histogram and theoretical pdf',\n",
    "    xaxis=dict(title='interarrival time (hours)'),\n",
    "    yaxis=dict(title='frequency/density'),\n",
    "    showlegend=False\n",
    ")\n",
    "fig = go.Figure(data=data, layout=layout)\n",
    "pl.iplot(fig)"
   ]
  },
  {
   "cell_type": "markdown",
   "metadata": {},
   "source": [
    "__What do you think? Do you think the interarrival times are from an exponential distribution?__"
   ]
  },
  {
   "cell_type": "markdown",
   "metadata": {},
   "source": [
    "Ideally, we would perform some goodness-of-fit tests to statistically determine whether the exponential distribution is a good fit for the interarrival times."
   ]
  },
  {
   "cell_type": "markdown",
   "metadata": {},
   "source": [
    "We also need to check independence of the interarrival times. One easy visual test is to plot the interarrival times as a time series:"
   ]
  },
  {
   "cell_type": "code",
   "execution_count": null,
   "metadata": {
    "collapsed": false,
    "scrolled": false
   },
   "outputs": [],
   "source": [
    "# Plot interarrival times as time series\n",
    "trace = go.Bar(y=interarrival_times)\n",
    "data = [trace]\n",
    "layout = go.Layout(\n",
    "    title='Interarrival times',\n",
    "    xaxis=dict(title='arrival (tweet)'),\n",
    "    yaxis=dict(title='interarrival time (hours)'),\n",
    "    showlegend=False\n",
    ")\n",
    "fig = go.Figure(data=data, layout=layout)\n",
    "pl.iplot(fig)"
   ]
  },
  {
   "cell_type": "markdown",
   "metadata": {},
   "source": [
    "__What do you think? Are the interarrival times independent?__"
   ]
  },
  {
   "cell_type": "markdown",
   "metadata": {},
   "source": [
    "# #poisson?"
   ]
  },
  {
   "cell_type": "markdown",
   "metadata": {},
   "source": [
    "We can also do the same thing with hashtags. Let's grab the last 500 tweets with a certain hashtag."
   ]
  },
  {
   "cell_type": "code",
   "execution_count": null,
   "metadata": {
    "collapsed": true
   },
   "outputs": [],
   "source": [
    "# Enter hashtag to search\n",
    "search_text = \"#apple\""
   ]
  },
  {
   "cell_type": "code",
   "execution_count": null,
   "metadata": {
    "collapsed": false
   },
   "outputs": [],
   "source": [
    "# Get last 500 tweets with this hashtag\n",
    "cursor = tweepy.Cursor(api.search, q=search_text)\n",
    "hashtag_tweets = []\n",
    "for tweet in cursor.items(500):\n",
    "    hashtag_tweets.append(tweet)"
   ]
  },
  {
   "cell_type": "code",
   "execution_count": null,
   "metadata": {
    "collapsed": false
   },
   "outputs": [],
   "source": [
    "# Print last 10 tweets with this hashtag: date/time, text\n",
    "for tweet in hashtag_tweets[:10]:\n",
    "    print(\"{0} {1}\".format(tweet.created_at, tweet.text))"
   ]
  },
  {
   "cell_type": "markdown",
   "metadata": {},
   "source": [
    "Now, we can go through the same process as we did above.\n",
    "\n",
    "Since hashtags appear more frequently than one user's tweets, let's change the time scale to minutes instead of hours."
   ]
  },
  {
   "cell_type": "code",
   "execution_count": null,
   "metadata": {
    "collapsed": false,
    "scrolled": false
   },
   "outputs": [],
   "source": [
    "# Grab just the arrival times\n",
    "ht_arrival_times = []\n",
    "for tweet in hashtag_tweets:\n",
    "    ht_arrival_times.append(tweet.created_at)\n",
    "\n",
    "# Sort arrival times\n",
    "ht_arrival_times.sort()\n",
    "\n",
    "# Compute interarrival times in minutes\n",
    "ht_interarrival_times = []\n",
    "for a, b in zip(ht_arrival_times, ht_arrival_times[1:]):\n",
    "    ht_interarrival_times.append((b - a).seconds / 60)\n",
    "    \n",
    "# Mean interarrival time\n",
    "ht_mean_interarrival_time = np.mean(ht_interarrival_times)\n",
    "print(\"Mean interarrival time: {0} minutes per tweet\".format(ht_mean_interarrival_time))\n",
    "\n",
    "# Mean interarrival rate\n",
    "ht_mean_interarrival_rate = 1 / ht_mean_interarrival_time\n",
    "print(\"Mean interarrival rate: {0} tweets per minute\".format(ht_mean_interarrival_rate))\n",
    "\n",
    "# Create histogram trace\n",
    "ht_hist_trace = go.Histogram(x=ht_interarrival_times, histnorm='probability density')\n",
    "\n",
    "# Create pdf trace\n",
    "ht_x_max = max(ht_interarrival_times)\n",
    "ht_x_range = np.arange(0, ht_x_max, ht_x_max / 1000)\n",
    "ht_pdf = [stats.expon.pdf(x, scale=ht_mean_interarrival_time) for x in ht_x_range]\n",
    "ht_pdf_trace = go.Scatter(x=ht_x_range, y=ht_pdf)\n",
    "\n",
    "# Plot the histogram and pdf\n",
    "data = [ht_hist_trace, ht_pdf_trace]\n",
    "layout = go.Layout(\n",
    "    title='Histogram and theoretical pdf',\n",
    "    xaxis=dict(title='interarrival time (minutes)'),\n",
    "    yaxis=dict(title='frequency/density'),\n",
    "    showlegend=False\n",
    ")\n",
    "fig = go.Figure(data=data, layout=layout)\n",
    "pl.iplot(fig)\n",
    "\n",
    "# Plot interarrival times as time series\n",
    "trace = go.Bar(y=ht_interarrival_times)\n",
    "data = [trace]\n",
    "layout = go.Layout(\n",
    "    title='Interarrival times',\n",
    "    xaxis=dict(title='arrival (tweet)'),\n",
    "    yaxis=dict(title='interarrival time (minutes)'),\n",
    "    showlegend=False\n",
    ")\n",
    "fig = go.Figure(data=data, layout=layout)\n",
    "pl.iplot(fig)"
   ]
  },
  {
   "cell_type": "markdown",
   "metadata": {},
   "source": [
    "__What do you think? Are the interarrival times from an exponential distribution? Are the interarrival times independent?__"
   ]
  }
 ],
 "metadata": {
  "kernelspec": {
   "display_name": "Python 3",
   "language": "python",
   "name": "python3"
  },
  "language_info": {
   "codemirror_mode": {
    "name": "ipython",
    "version": 3
   },
   "file_extension": ".py",
   "mimetype": "text/x-python",
   "name": "python",
   "nbconvert_exporter": "python",
   "pygments_lexer": "ipython3",
   "version": "3.5.2"
  }
 },
 "nbformat": 4,
 "nbformat_minor": 1
}
